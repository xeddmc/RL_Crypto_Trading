{
 "metadata": {
  "language_info": {
   "codemirror_mode": {
    "name": "ipython",
    "version": 3
   },
   "file_extension": ".py",
   "mimetype": "text/x-python",
   "name": "python",
   "nbconvert_exporter": "python",
   "pygments_lexer": "ipython3",
   "version": "3.8.8"
  },
  "orig_nbformat": 2,
  "kernelspec": {
   "name": "python388jvsc74a57bd0ba78f105c72a3f5d6d1fda75deaf537b1e0ac9168189c176f5be93842c076180",
   "display_name": "Python 3.8.8 64-bit ('ml': conda)"
  }
 },
 "nbformat": 4,
 "nbformat_minor": 2,
 "cells": [
  {
   "source": [
    "# Calculate MACD indicator"
   ],
   "cell_type": "markdown",
   "metadata": {}
  },
  {
   "cell_type": "code",
   "execution_count": 1,
   "metadata": {},
   "outputs": [],
   "source": [
    "import pandas as pd\n",
    "import os\n",
    "import plotly.express as px"
   ]
  },
  {
   "source": [
    "## 1-hour data"
   ],
   "cell_type": "markdown",
   "metadata": {}
  },
  {
   "cell_type": "code",
   "execution_count": 2,
   "metadata": {},
   "outputs": [],
   "source": [
    "hour_filenames = os.listdir('../../data/raw/1-hour-data/')\n",
    "hour_data_dir = '../../data/raw/1-hour-data/{}'\n",
    "hour_output_dir = '../../data/technical-indicators/1-hour-data/{}'"
   ]
  },
  {
   "source": [
    "### MACD\n",
    "Smoothing factors for MACD"
   ],
   "cell_type": "markdown",
   "metadata": {}
  },
  {
   "cell_type": "code",
   "execution_count": 2,
   "metadata": {},
   "outputs": [],
   "source": [
    "K_12 = 2/(12+1)\n",
    "K_26 = 2/(26+1)\n",
    "K_9 = 2/(9+1)"
   ]
  },
  {
   "cell_type": "code",
   "execution_count": 11,
   "metadata": {},
   "outputs": [
    {
     "output_type": "stream",
     "name": "stdout",
     "text": [
      "LINKUSDT.csv\n",
      "ETHUSDT.csv\n",
      "XLMUSDT.csv\n",
      "EOSUSDT.csv\n",
      "BTCUSDT.csv\n",
      "TRXUSDT.csv\n",
      "XRPUSDT.csv\n",
      "ADAUSDT.csv\n",
      "LTCUSDT.csv\n"
     ]
    }
   ],
   "source": [
    "for f in hour_filenames:\n",
    "    if '.csv' in f:\n",
    "        df = pd.read_csv(hour_data_dir.format(f))\n",
    "        df['12-period-EMA'] = 0\n",
    "        df['26-period-EMA'] = 0\n",
    "        df['MACD'] = 0\n",
    "        df['Signal'] = 0\n",
    "        df.dropna(inplace=True)\n",
    "        # display(df)\n",
    "        df.reset_index(inplace=True, drop=True)\n",
    "        # display(df)\n",
    "        # break\n",
    "\n",
    "        # Calculate first 12-period and 26-period EMA\n",
    "        df.loc[11, '12-period-EMA'] = df['close-usd'].values[0:12].mean()\n",
    "        df.loc[25, '26-period-EMA'] = df['close-usd'].values[0:26].mean()\n",
    "\n",
    "        # Calculate all following 12 and 26 period EMAs\n",
    "        for i in range(12, len(df)):\n",
    "            df.loc[i,'12-period-EMA'] = (df.loc[i, 'close-usd'] * K_12) + (df.loc[i-1, '12-period-EMA'] * (1-K_12))\n",
    "            if i >= 26:\n",
    "                df.loc[i, '26-period-EMA'] = (df.loc[i, 'close-usd'] * K_26) + (df.loc[i-1, '26-period-EMA'] * (1-K_26))\n",
    "\n",
    "        # Calculate MACD\n",
    "        df['MACD'] = df['12-period-EMA'] - df['26-period-EMA']\n",
    "\n",
    "        # Calculate 9-period EMA of MACD for the signal line\n",
    "        df.loc[33, 'Signal'] = df['MACD'].values[25:34].mean()\n",
    "        for i in range(34, len(df)):\n",
    "            df.loc[i, 'Signal'] = (df.loc[i, 'MACD'] * K_9) + (df.loc[i-1, 'Signal'] * (1-K_9)) \n",
    "\n",
    "        # Save data frame back to file\n",
    "        df.to_csv(hour_output_dir.format(f), index=False)\n",
    "        print(f)\n",
    "        # Uncomment the following three lines to see interactive plot of MACD and Signal lines.\n",
    "        # fig = px.line(df, x='open-time', y=['MACD', 'Signal'])\n",
    "        # fig.show()\n",
    "        # input('Press any key to continue...')"
   ]
  },
  {
   "source": [
    "## 1-day data"
   ],
   "cell_type": "markdown",
   "metadata": {}
  },
  {
   "cell_type": "code",
   "execution_count": 8,
   "metadata": {},
   "outputs": [],
   "source": [
    "day_filenames = os.listdir('../../data/raw/1-day-data/')\n",
    "day_data_dir = '../../data/raw/1-day-data/{}'\n",
    "day_output_dir = '../../data/technical-indicators/1-day-data/{}'"
   ]
  },
  {
   "cell_type": "code",
   "execution_count": 9,
   "metadata": {},
   "outputs": [],
   "source": [
    "for f in day_filenames:\n",
    "    df = pd.read_csv(day_data_dir.format(f))\n",
    "    df['12-period-EMA'] = None\n",
    "    df['26-period-EMA'] = None\n",
    "    df['MACD'] = None\n",
    "    df['Signal'] = None\n",
    "\n",
    "    # Calculate first 12-period and 26-period EMA\n",
    "    df.loc[11, '12-period-EMA'] = df['Close'].values[0:12].mean()\n",
    "    df.loc[25, '26-period-EMA'] = df['Close'].values[0:26].mean()\n",
    "\n",
    "    # Calculate all following 12 and 26 period EMAs\n",
    "    for i in range(12, len(df)):\n",
    "        df.loc[i,'12-period-EMA'] = (df.loc[i, 'Close'] * K_12) + (df.loc[i-1, '12-period-EMA'] * (1-K_12))\n",
    "        if i >= 26:\n",
    "            df.loc[i, '26-period-EMA'] = (df.loc[i, 'Close'] * K_26) + (df.loc[i-1, '26-period-EMA'] * (1-K_26))\n",
    "\n",
    "    # Calculate MACD\n",
    "    df['MACD'] = df['12-period-EMA'] - df['26-period-EMA']\n",
    "\n",
    "    # Calculate 9-period EMA of MACD for the signal line\n",
    "    df.loc[33, 'Signal'] = df['MACD'].values[25:34].mean()\n",
    "    for i in range(34, len(df)):\n",
    "        df.loc[i, 'Signal'] = (df.loc[i, 'MACD'] * K_9) + (df.loc[i-1, 'Signal'] * (1-K_9)) \n",
    "\n",
    "    # Save data frame back to file\n",
    "    df.to_csv(day_output_dir.format(f), index=False)\n",
    "\n",
    "    # Uncomment the following three lines to see interactive plot of MACD and Signal lines.\n",
    "    # fig = px.line(df, x='open-time', y=['MACD', 'Signal'])\n",
    "    # fig.show()\n",
    "    # input('Press any key to continue...')"
   ]
  },
  {
   "source": [
    "## 15-minute data"
   ],
   "cell_type": "markdown",
   "metadata": {}
  },
  {
   "cell_type": "code",
   "execution_count": 3,
   "metadata": {},
   "outputs": [],
   "source": [
    "minute_filenames = os.listdir('../../data/raw/15-minute-data/')\n",
    "minute_data_dir = '../../data/raw/15-minute-data/{}'\n",
    "minute_output_dir = '../../data/technical-indicators/15-minute-data/{}'"
   ]
  },
  {
   "cell_type": "code",
   "execution_count": 4,
   "metadata": {},
   "outputs": [],
   "source": [
    "for f in minute_filenames:\n",
    "    if '.csv' in f:\n",
    "        df = pd.read_csv(minute_data_dir.format(f))\n",
    "        df['12-period-EMA'] = 0\n",
    "        df['26-period-EMA'] = 0\n",
    "        df['MACD'] = 0\n",
    "        df['Signal'] = 0\n",
    "        df.dropna(inplace=True)\n",
    "        # display(df)\n",
    "        df.reset_index(inplace=True, drop=True)\n",
    "\n",
    "        # Calculate first 12-period and 26-period EMA\n",
    "        df.loc[11, '12-period-EMA'] = df['close-usd'].values[0:12].mean()\n",
    "        df.loc[25, '26-period-EMA'] = df['close-usd'].values[0:26].mean()\n",
    "\n",
    "        # Calculate all following 12 and 26 period EMAs\n",
    "        for i in range(12, len(df)):\n",
    "            df.loc[i,'12-period-EMA'] = (df.loc[i, 'close-usd'] * K_12) + (df.loc[i-1, '12-period-EMA'] * (1-K_12))\n",
    "            if i >= 26:\n",
    "                df.loc[i, '26-period-EMA'] = (df.loc[i, 'close-usd'] * K_26) + (df.loc[i-1, '26-period-EMA'] * (1-K_26))\n",
    "\n",
    "        # Calculate MACD\n",
    "        df['MACD'] = df['12-period-EMA'] - df['26-period-EMA']\n",
    "\n",
    "        # Calculate 9-period EMA of MACD for the signal line\n",
    "        df.loc[33, 'Signal'] = df['MACD'].values[25:34].mean()\n",
    "        for i in range(34, len(df)):\n",
    "            df.loc[i, 'Signal'] = (df.loc[i, 'MACD'] * K_9) + (df.loc[i-1, 'Signal'] * (1-K_9)) \n",
    "\n",
    "        # Save data frame back to file\n",
    "        df.to_csv(minute_output_dir.format(f), index=False)\n",
    "\n",
    "        # Uncomment the following three lines to see interactive plot of MACD and Signal lines.\n",
    "        # fig = px.line(df, x='open-time', y=['MACD', 'Signal'])\n",
    "        # fig.show()\n",
    "        # input('Press any key to continue...')"
   ]
  },
  {
   "cell_type": "code",
   "execution_count": null,
   "metadata": {},
   "outputs": [],
   "source": []
  }
 ]
}