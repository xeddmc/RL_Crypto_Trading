{
 "metadata": {
  "language_info": {
   "codemirror_mode": {
    "name": "ipython",
    "version": 3
   },
   "file_extension": ".py",
   "mimetype": "text/x-python",
   "name": "python",
   "nbconvert_exporter": "python",
   "pygments_lexer": "ipython3",
   "version": "3.8.8"
  },
  "orig_nbformat": 2,
  "kernelspec": {
   "name": "python388jvsc74a57bd0ba78f105c72a3f5d6d1fda75deaf537b1e0ac9168189c176f5be93842c076180",
   "display_name": "Python 3.8.8 64-bit ('ml': conda)"
  }
 },
 "nbformat": 4,
 "nbformat_minor": 2,
 "cells": [
  {
   "cell_type": "code",
   "execution_count": 1,
   "metadata": {},
   "outputs": [],
   "source": [
    "import pandas as pd\n",
    "from ta.trend import CCIIndicator\n",
    "import numpy as np\n",
    "import os\n",
    "import warnings\n",
    "warnings.filterwarnings('ignore')"
   ]
  },
  {
   "source": [
    "# Calculate CCI for each dataset\n",
    "## 1 day data "
   ],
   "cell_type": "markdown",
   "metadata": {}
  },
  {
   "cell_type": "code",
   "execution_count": 10,
   "metadata": {},
   "outputs": [],
   "source": [
    "day_dir = '../../data/technical-indicators/1-day-data/{}'\n",
    "day_files = os.listdir(day_dir.format(''))"
   ]
  },
  {
   "cell_type": "code",
   "execution_count": 11,
   "metadata": {},
   "outputs": [],
   "source": [
    "for filename in day_files:\n",
    "    df = pd.read_csv(day_dir.format(filename))\n",
    "    indicator_cci = CCIIndicator(df['High'], df['Low'], df['Close'])\n",
    "    df['cci'] = indicator_cci.cci()\n",
    "    df.to_csv(day_dir.format(filename), index=False)"
   ]
  },
  {
   "source": [
    "## 1 hour data"
   ],
   "cell_type": "markdown",
   "metadata": {}
  },
  {
   "cell_type": "code",
   "execution_count": 12,
   "metadata": {},
   "outputs": [],
   "source": [
    "hour_dir = '../../data/technical-indicators/1-hour-data/{}'\n",
    "hour_files = os.listdir(hour_dir.format(''))"
   ]
  },
  {
   "cell_type": "code",
   "execution_count": 13,
   "metadata": {},
   "outputs": [],
   "source": [
    "for filename in hour_files:\n",
    "    df = pd.read_csv(hour_dir.format(filename))\n",
    "    indicator_cci = CCIIndicator(df['high-usd'], df['low-usd'], df['close-usd'])\n",
    "    df['cci'] = indicator_cci.cci()\n",
    "    df.to_csv(hour_dir.format(filename), index=False)"
   ]
  },
  {
   "source": [
    "## 15 minute data"
   ],
   "cell_type": "markdown",
   "metadata": {}
  },
  {
   "cell_type": "code",
   "execution_count": 14,
   "metadata": {},
   "outputs": [],
   "source": [
    "minute_dir = '../../data/technical-indicators/15-minute-data/{}'\n",
    "minute_files = os.listdir(minute_dir.format(''))"
   ]
  },
  {
   "cell_type": "code",
   "execution_count": 15,
   "metadata": {},
   "outputs": [],
   "source": [
    "for filename in minute_files:\n",
    "    df = pd.read_csv(minute_dir.format(filename))\n",
    "    indicator_cci = CCIIndicator(df['high-usd'], df['low-usd'], df['close-usd'])\n",
    "    df['cci'] = indicator_cci.cci()\n",
    "    df.to_csv(minute_dir.format(filename), index=False)"
   ]
  }
 ]
}