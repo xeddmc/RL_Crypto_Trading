{
 "metadata": {
  "language_info": {
   "codemirror_mode": {
    "name": "ipython",
    "version": 3
   },
   "file_extension": ".py",
   "mimetype": "text/x-python",
   "name": "python",
   "nbconvert_exporter": "python",
   "pygments_lexer": "ipython3",
   "version": "3.8.5"
  },
  "orig_nbformat": 2,
  "kernelspec": {
   "name": "python385jvsc74a57bd088b1fa27e87f34bcb85966928921673b2a5d63e3defd3005f45d0542295f2060",
   "display_name": "Python 3.8.5 64-bit ('base': conda)"
  },
  "metadata": {
   "interpreter": {
    "hash": "88b1fa27e87f34bcb85966928921673b2a5d63e3defd3005f45d0542295f2060"
   }
  }
 },
 "nbformat": 4,
 "nbformat_minor": 2,
 "cells": [
  {
   "source": [
    "# Collecting 1-hour candlestick data"
   ],
   "cell_type": "markdown",
   "metadata": {}
  },
  {
   "cell_type": "code",
   "execution_count": 1,
   "metadata": {},
   "outputs": [],
   "source": [
    "import os\n",
    "import datetime\n",
    "from binance.client import Client\n",
    "import pandas as pd\n",
    "api_key = os.environ.get('BINANCE_API')\n",
    "api_secret = os.environ.get('BINANCE_SECRET')\n",
    "client = Client(api_key, api_secret)"
   ]
  },
  {
   "source": [
    "* Symbols of cryptos\n",
    "* Column names for dataframe of responses from the binance API"
   ],
   "cell_type": "markdown",
   "metadata": {}
  },
  {
   "cell_type": "code",
   "execution_count": 2,
   "metadata": {},
   "outputs": [],
   "source": [
    "symbols = ['BTC', 'ADA', 'LINK', 'EOS', 'ETH', 'LTC', 'XLM', 'TRX', 'XRP']\n",
    "column_names = ['open-time', 'open', 'high', 'low', 'close', 'volume', 'close-time', 'quote-asset-volume', 'num-of-trades', 'taker-buy-base-asset-vol', 'taker-buy-quote-asset-vol', 'ignore' ]"
   ]
  },
  {
   "source": [
    "```\n",
    "for every symbol:\n",
    "    get historical data, klines (list of lists)\n",
    "    for every candlestick:\n",
    "        add row to dataframe\n",
    "    write dataframe to memory\n",
    "```"
   ],
   "cell_type": "markdown",
   "metadata": {}
  },
  {
   "cell_type": "code",
   "execution_count": 3,
   "metadata": {},
   "outputs": [],
   "source": [
    "for symbol in symbols:\n",
    "    df = pd.DataFrame(columns=column_names)\n",
    "    klines = client.get_historical_klines(f'{symbol}USDT', Client.KLINE_INTERVAL_1HOUR, '31 Jan, 2020', '30 Apr, 2021')\n",
    "    for candle in klines:\n",
    "        df.loc[len(df)] = candle\n",
    "    df.to_csv(f'../../data/raw/1-hour-data/{symbol}USDT.csv', index=False)"
   ]
  }
 ]
}