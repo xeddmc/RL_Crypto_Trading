{
 "metadata": {
  "language_info": {
   "codemirror_mode": {
    "name": "ipython",
    "version": 3
   },
   "file_extension": ".py",
   "mimetype": "text/x-python",
   "name": "python",
   "nbconvert_exporter": "python",
   "pygments_lexer": "ipython3",
   "version": "3.8.8"
  },
  "orig_nbformat": 2,
  "kernelspec": {
   "name": "python388jvsc74a57bd0ba78f105c72a3f5d6d1fda75deaf537b1e0ac9168189c176f5be93842c076180",
   "display_name": "Python 3.8.8 64-bit ('ml': conda)"
  }
 },
 "nbformat": 4,
 "nbformat_minor": 2,
 "cells": [
  {
   "cell_type": "code",
   "execution_count": 1,
   "metadata": {},
   "outputs": [],
   "source": [
    "import pandas as pd\n",
    "import os"
   ]
  },
  {
   "source": [
    "# Filter out the features that will be used and select date range data\n",
    "## 1 day data"
   ],
   "cell_type": "markdown",
   "metadata": {}
  },
  {
   "cell_type": "code",
   "execution_count": 3,
   "metadata": {},
   "outputs": [],
   "source": [
    "day_dir = '../../data/technical-indicators/1-day-data/{}'\n",
    "day_files = os.listdir(day_dir.format(''))\n",
    "day_output_dir = '../../data/ready/1-day-data/{}'"
   ]
  },
  {
   "cell_type": "code",
   "execution_count": 12,
   "metadata": {},
   "outputs": [],
   "source": [
    "for filename in day_files:\n",
    "    df = pd.read_csv(day_dir.format(filename))\n",
    "    tmp = pd.DataFrame(columns=['ds', 'open','high','low','close','macd', 'rsi','adx','cci'])\n",
    "    tmp['ds'] = df['Date']\n",
    "    tmp['open'] = df['Open']\n",
    "    tmp['high'] =  df['High']\n",
    "    tmp['low'] = df['Low']\n",
    "    tmp['close'] = df['Close']\n",
    "    tmp['macd'] = df['MACD']\n",
    "    tmp['rsi'] = df['RSI']\n",
    "    tmp['adx'] = df['adx']\n",
    "    tmp['cci'] = df['cci']\n",
    "    tmp = tmp[tmp['ds'] >= '2017-10-02 23:59:59']\n",
    "    tmp.to_csv(day_output_dir.format(filename), index=False)"
   ]
  },
  {
   "source": [
    "## 1 hour data"
   ],
   "cell_type": "markdown",
   "metadata": {}
  },
  {
   "cell_type": "code",
   "execution_count": 4,
   "metadata": {},
   "outputs": [],
   "source": [
    "hour_dir = '../../data/technical-indicators/1-hour-data/{}'\n",
    "hour_files = os.listdir(hour_dir.format(''))\n",
    "hour_output_dir = '../../data/ready/1-hour-data/{}'"
   ]
  },
  {
   "cell_type": "code",
   "execution_count": 5,
   "metadata": {},
   "outputs": [
    {
     "output_type": "stream",
     "name": "stdout",
     "text": [
      "10183\n",
      "10183\n",
      "10183\n",
      "10183\n",
      "10183\n",
      "10183\n",
      "10183\n",
      "10183\n",
      "10183\n"
     ]
    }
   ],
   "source": [
    "for filename in hour_files:\n",
    "    df = pd.read_csv(hour_dir.format(filename))\n",
    "    tmp = pd.DataFrame(columns=['ds', 'open','high','low','close','macd', 'rsi','adx','cci'])\n",
    "    tmp['ds'] = df['open-time']\n",
    "    tmp['open'] = df['open-usd']\n",
    "    tmp['high'] =  df['high-usd']\n",
    "    tmp['low'] = df['low-usd']\n",
    "    tmp['close'] = df['close-usd']\n",
    "    tmp['macd'] = df['MACD']\n",
    "    tmp['rsi'] = df['RSI']\n",
    "    tmp['adx'] = df['adx']\n",
    "    tmp['cci'] = df['cci']\n",
    "    # tmp = tmp[tmp['ds'] >= '2017-10-02 23:59:59']\n",
    "    print(len(tmp))\n",
    "    tmp.to_csv(hour_output_dir.format(filename), index=False)"
   ]
  },
  {
   "source": [
    "## 15 minute data"
   ],
   "cell_type": "markdown",
   "metadata": {}
  },
  {
   "cell_type": "code",
   "execution_count": 2,
   "metadata": {},
   "outputs": [],
   "source": [
    "minute_dir = '../../data/technical-indicators/15-minute-data/{}'\n",
    "minute_files = os.listdir(minute_dir.format(''))\n",
    "minute_output_dir = '../../data/ready/15-minute-data/{}'"
   ]
  },
  {
   "cell_type": "code",
   "execution_count": 3,
   "metadata": {},
   "outputs": [
    {
     "output_type": "stream",
     "name": "stdout",
     "text": [
      "40643\n",
      "40643\n",
      "40643\n",
      "40643\n",
      "40643\n",
      "40643\n",
      "40643\n",
      "40643\n",
      "40643\n"
     ]
    }
   ],
   "source": [
    "for filename in minute_files:\n",
    "    df = pd.read_csv(minute_dir.format(filename))\n",
    "    tmp = pd.DataFrame(columns=['ds', 'open','high','low','close','macd', 'rsi','adx','cci'])\n",
    "    tmp['ds'] = df['open-time']\n",
    "    tmp['open'] = df['open-usd']\n",
    "    tmp['high'] =  df['high-usd']\n",
    "    tmp['low'] = df['low-usd']\n",
    "    tmp['close'] = df['close-usd']\n",
    "    tmp['macd'] = df['MACD']\n",
    "    tmp['rsi'] = df['RSI']\n",
    "    tmp['adx'] = df['adx']\n",
    "    tmp['cci'] = df['cci']\n",
    "    # tmp = tmp[tmp['ds'] >= '2017-10-02 23:59:59']\n",
    "    print(len(tmp))\n",
    "    tmp.to_csv(minute_output_dir.format(filename), index=False)"
   ]
  },
  {
   "cell_type": "code",
   "execution_count": null,
   "metadata": {},
   "outputs": [],
   "source": []
  }
 ]
}