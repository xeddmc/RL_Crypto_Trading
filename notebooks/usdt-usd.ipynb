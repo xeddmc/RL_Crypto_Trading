{
 "metadata": {
  "language_info": {
   "codemirror_mode": {
    "name": "ipython",
    "version": 3
   },
   "file_extension": ".py",
   "mimetype": "text/x-python",
   "name": "python",
   "nbconvert_exporter": "python",
   "pygments_lexer": "ipython3",
   "version": "3.8.8"
  },
  "orig_nbformat": 2,
  "kernelspec": {
   "name": "python388jvsc74a57bd0ba78f105c72a3f5d6d1fda75deaf537b1e0ac9168189c176f5be93842c076180",
   "display_name": "Python 3.8.8 64-bit ('ml': conda)"
  }
 },
 "nbformat": 4,
 "nbformat_minor": 2,
 "cells": [
  {
   "source": [
    "# Collecting USDT/USD data"
   ],
   "cell_type": "markdown",
   "metadata": {}
  },
  {
   "cell_type": "code",
   "execution_count": 1,
   "metadata": {},
   "outputs": [],
   "source": [
    "import pandas as pd\n",
    "import datetime"
   ]
  },
  {
   "cell_type": "code",
   "execution_count": 21,
   "metadata": {},
   "outputs": [],
   "source": [
    "df = pd.read_csv('../data/raw/15-minute-data/USDTUSD_15.csv', names=['open-time', 'open', 'high','low','close','volume','trades'])"
   ]
  },
  {
   "cell_type": "code",
   "execution_count": 22,
   "metadata": {},
   "outputs": [
    {
     "output_type": "execute_result",
     "data": {
      "text/plain": [
       "         open-time    open    high     low   close        volume  trades\n",
       "26023   1520218800  0.9998  0.9998  0.9997  0.9997  1.312120e+04      10\n",
       "119425  1614233700  1.0009  1.0010  1.0008  1.0009  2.105954e+06     279\n",
       "68648   1567196100  1.0002  1.0007  0.9999  1.0000  1.953196e+05     106\n",
       "67126   1565464500  0.9974  0.9974  0.9974  0.9974  5.000000e+02       1\n",
       "63313   1561547700  0.9952  0.9956  0.9952  0.9952  3.908365e+04      91"
      ],
      "text/html": "<div>\n<style scoped>\n    .dataframe tbody tr th:only-of-type {\n        vertical-align: middle;\n    }\n\n    .dataframe tbody tr th {\n        vertical-align: top;\n    }\n\n    .dataframe thead th {\n        text-align: right;\n    }\n</style>\n<table border=\"1\" class=\"dataframe\">\n  <thead>\n    <tr style=\"text-align: right;\">\n      <th></th>\n      <th>open-time</th>\n      <th>open</th>\n      <th>high</th>\n      <th>low</th>\n      <th>close</th>\n      <th>volume</th>\n      <th>trades</th>\n    </tr>\n  </thead>\n  <tbody>\n    <tr>\n      <th>26023</th>\n      <td>1520218800</td>\n      <td>0.9998</td>\n      <td>0.9998</td>\n      <td>0.9997</td>\n      <td>0.9997</td>\n      <td>1.312120e+04</td>\n      <td>10</td>\n    </tr>\n    <tr>\n      <th>119425</th>\n      <td>1614233700</td>\n      <td>1.0009</td>\n      <td>1.0010</td>\n      <td>1.0008</td>\n      <td>1.0009</td>\n      <td>2.105954e+06</td>\n      <td>279</td>\n    </tr>\n    <tr>\n      <th>68648</th>\n      <td>1567196100</td>\n      <td>1.0002</td>\n      <td>1.0007</td>\n      <td>0.9999</td>\n      <td>1.0000</td>\n      <td>1.953196e+05</td>\n      <td>106</td>\n    </tr>\n    <tr>\n      <th>67126</th>\n      <td>1565464500</td>\n      <td>0.9974</td>\n      <td>0.9974</td>\n      <td>0.9974</td>\n      <td>0.9974</td>\n      <td>5.000000e+02</td>\n      <td>1</td>\n    </tr>\n    <tr>\n      <th>63313</th>\n      <td>1561547700</td>\n      <td>0.9952</td>\n      <td>0.9956</td>\n      <td>0.9952</td>\n      <td>0.9952</td>\n      <td>3.908365e+04</td>\n      <td>91</td>\n    </tr>\n  </tbody>\n</table>\n</div>"
     },
     "metadata": {},
     "execution_count": 22
    }
   ],
   "source": [
    "df.sample(5)"
   ]
  },
  {
   "cell_type": "code",
   "execution_count": 28,
   "metadata": {},
   "outputs": [],
   "source": [
    "df_usdt = df[df['open-time'] >= 1580428800000 / 1000] # Jan 31, 2020 12:00:00 AM GMT"
   ]
  },
  {
   "cell_type": "code",
   "execution_count": 31,
   "metadata": {},
   "outputs": [],
   "source": [
    "df_usdt.to_csv('../data/raw/15-minute-data/USDT.csv', index=False)"
   ]
  },
  {
   "cell_type": "code",
   "execution_count": 32,
   "metadata": {},
   "outputs": [
    {
     "output_type": "execute_result",
     "data": {
      "text/plain": [
       "        open-time    open    high     low   close        volume  trades\n",
       "81924  1580428800  0.9985  0.9986  0.9981  0.9982   1941.065618      17\n",
       "81925  1580429700  0.9985  0.9985  0.9981  0.9985   4701.105947      25\n",
       "81926  1580430600  0.9982  0.9986  0.9979  0.9982  26924.856269      62\n",
       "81927  1580431500  0.9986  0.9990  0.9981  0.9985  79602.537491     100\n",
       "81928  1580432400  0.9985  0.9990  0.9981  0.9984  64682.104705      46"
      ],
      "text/html": "<div>\n<style scoped>\n    .dataframe tbody tr th:only-of-type {\n        vertical-align: middle;\n    }\n\n    .dataframe tbody tr th {\n        vertical-align: top;\n    }\n\n    .dataframe thead th {\n        text-align: right;\n    }\n</style>\n<table border=\"1\" class=\"dataframe\">\n  <thead>\n    <tr style=\"text-align: right;\">\n      <th></th>\n      <th>open-time</th>\n      <th>open</th>\n      <th>high</th>\n      <th>low</th>\n      <th>close</th>\n      <th>volume</th>\n      <th>trades</th>\n    </tr>\n  </thead>\n  <tbody>\n    <tr>\n      <th>81924</th>\n      <td>1580428800</td>\n      <td>0.9985</td>\n      <td>0.9986</td>\n      <td>0.9981</td>\n      <td>0.9982</td>\n      <td>1941.065618</td>\n      <td>17</td>\n    </tr>\n    <tr>\n      <th>81925</th>\n      <td>1580429700</td>\n      <td>0.9985</td>\n      <td>0.9985</td>\n      <td>0.9981</td>\n      <td>0.9985</td>\n      <td>4701.105947</td>\n      <td>25</td>\n    </tr>\n    <tr>\n      <th>81926</th>\n      <td>1580430600</td>\n      <td>0.9982</td>\n      <td>0.9986</td>\n      <td>0.9979</td>\n      <td>0.9982</td>\n      <td>26924.856269</td>\n      <td>62</td>\n    </tr>\n    <tr>\n      <th>81927</th>\n      <td>1580431500</td>\n      <td>0.9986</td>\n      <td>0.9990</td>\n      <td>0.9981</td>\n      <td>0.9985</td>\n      <td>79602.537491</td>\n      <td>100</td>\n    </tr>\n    <tr>\n      <th>81928</th>\n      <td>1580432400</td>\n      <td>0.9985</td>\n      <td>0.9990</td>\n      <td>0.9981</td>\n      <td>0.9984</td>\n      <td>64682.104705</td>\n      <td>46</td>\n    </tr>\n  </tbody>\n</table>\n</div>"
     },
     "metadata": {},
     "execution_count": 32
    }
   ],
   "source": [
    "df_usdt.head(5)"
   ]
  },
  {
   "cell_type": "code",
   "execution_count": 36,
   "metadata": {},
   "outputs": [
    {
     "output_type": "execute_result",
     "data": {
      "text/plain": [
       "'2020-01-30 17:00:00'"
      ]
     },
     "metadata": {},
     "execution_count": 36
    }
   ],
   "source": [
    "datetime.datetime.fromtimestamp(1580428800).strftime('%Y-%m-%d %H:%M:%S')"
   ]
  },
  {
   "cell_type": "code",
   "execution_count": 33,
   "metadata": {},
   "outputs": [
    {
     "output_type": "execute_result",
     "data": {
      "text/plain": [
       "         open-time    open    high     low   close         volume  trades\n",
       "122748  1617230700  1.0002  1.0004  1.0001  1.0002  924170.304448     805\n",
       "122749  1617231600  1.0003  1.0004  1.0001  1.0002  446390.827078     289\n",
       "122750  1617232500  1.0003  1.0004  1.0002  1.0003  411813.598622     389\n",
       "122751  1617233400  1.0004  1.0004  1.0002  1.0003  350397.246131     305\n",
       "122752  1617234300  1.0004  1.0005  1.0002  1.0004  428189.152778     404"
      ],
      "text/html": "<div>\n<style scoped>\n    .dataframe tbody tr th:only-of-type {\n        vertical-align: middle;\n    }\n\n    .dataframe tbody tr th {\n        vertical-align: top;\n    }\n\n    .dataframe thead th {\n        text-align: right;\n    }\n</style>\n<table border=\"1\" class=\"dataframe\">\n  <thead>\n    <tr style=\"text-align: right;\">\n      <th></th>\n      <th>open-time</th>\n      <th>open</th>\n      <th>high</th>\n      <th>low</th>\n      <th>close</th>\n      <th>volume</th>\n      <th>trades</th>\n    </tr>\n  </thead>\n  <tbody>\n    <tr>\n      <th>122748</th>\n      <td>1617230700</td>\n      <td>1.0002</td>\n      <td>1.0004</td>\n      <td>1.0001</td>\n      <td>1.0002</td>\n      <td>924170.304448</td>\n      <td>805</td>\n    </tr>\n    <tr>\n      <th>122749</th>\n      <td>1617231600</td>\n      <td>1.0003</td>\n      <td>1.0004</td>\n      <td>1.0001</td>\n      <td>1.0002</td>\n      <td>446390.827078</td>\n      <td>289</td>\n    </tr>\n    <tr>\n      <th>122750</th>\n      <td>1617232500</td>\n      <td>1.0003</td>\n      <td>1.0004</td>\n      <td>1.0002</td>\n      <td>1.0003</td>\n      <td>411813.598622</td>\n      <td>389</td>\n    </tr>\n    <tr>\n      <th>122751</th>\n      <td>1617233400</td>\n      <td>1.0004</td>\n      <td>1.0004</td>\n      <td>1.0002</td>\n      <td>1.0003</td>\n      <td>350397.246131</td>\n      <td>305</td>\n    </tr>\n    <tr>\n      <th>122752</th>\n      <td>1617234300</td>\n      <td>1.0004</td>\n      <td>1.0005</td>\n      <td>1.0002</td>\n      <td>1.0004</td>\n      <td>428189.152778</td>\n      <td>404</td>\n    </tr>\n  </tbody>\n</table>\n</div>"
     },
     "metadata": {},
     "execution_count": 33
    }
   ],
   "source": [
    "\n",
    "df_usdt.tail(5)"
   ]
  },
  {
   "cell_type": "code",
   "execution_count": 37,
   "metadata": {},
   "outputs": [
    {
     "output_type": "execute_result",
     "data": {
      "text/plain": [
       "'2021-03-31 17:45:00'"
      ]
     },
     "metadata": {},
     "execution_count": 37
    }
   ],
   "source": [
    "datetime.datetime.fromtimestamp(1617234300).strftime('%Y-%m-%d %H:%M:%S')"
   ]
  },
  {
   "source": [
    "### Available USDT/USD data from Jan. 30 2020 5:00 PM to Mar. 31 2021 5:45 PM"
   ],
   "cell_type": "markdown",
   "metadata": {}
  },
  {
   "cell_type": "code",
   "execution_count": 2,
   "metadata": {},
   "outputs": [],
   "source": [
    "df = pd.read_csv('../data/raw/1-hour-data/USDT/USDTUSD_60.csv', names=['open-time', 'open', 'high','low','close','volume','trades'])"
   ]
  },
  {
   "cell_type": "code",
   "execution_count": 3,
   "metadata": {},
   "outputs": [],
   "source": [
    "df_usdt = df[df['open-time'] >= 1580428800000 / 1000] # Jan 31, 2020 12:00:00 AM GMT"
   ]
  },
  {
   "cell_type": "code",
   "execution_count": 4,
   "metadata": {},
   "outputs": [
    {
     "output_type": "execute_result",
     "data": {
      "text/plain": [
       "        open-time    open    high     low   close        volume  trades\n",
       "24260  1580428800  0.9985  0.9990  0.9979  0.9985  1.131696e+05     204\n",
       "24261  1580432400  0.9985  0.9990  0.9981  0.9986  8.168696e+04      99\n",
       "24262  1580436000  0.9984  0.9990  0.9981  0.9982  4.160835e+04      91\n",
       "24263  1580439600  0.9982  0.9986  0.9979  0.9979  1.993397e+04      79\n",
       "24264  1580443200  0.9979  0.9982  0.9973  0.9976  5.964288e+04     134\n",
       "...           ...     ...     ...     ...     ...           ...     ...\n",
       "34476  1617217200  1.0003  1.0004  1.0000  1.0003  5.941234e+06    4079\n",
       "34477  1617220800  1.0004  1.0004  1.0001  1.0003  5.804575e+06    3581\n",
       "34478  1617224400  1.0003  1.0005  1.0002  1.0003  2.478189e+06    1551\n",
       "34479  1617228000  1.0003  1.0004  1.0001  1.0002  3.945085e+06    2903\n",
       "34480  1617231600  1.0003  1.0005  1.0001  1.0004  1.636791e+06    1387\n",
       "\n",
       "[10221 rows x 7 columns]"
      ],
      "text/html": "<div>\n<style scoped>\n    .dataframe tbody tr th:only-of-type {\n        vertical-align: middle;\n    }\n\n    .dataframe tbody tr th {\n        vertical-align: top;\n    }\n\n    .dataframe thead th {\n        text-align: right;\n    }\n</style>\n<table border=\"1\" class=\"dataframe\">\n  <thead>\n    <tr style=\"text-align: right;\">\n      <th></th>\n      <th>open-time</th>\n      <th>open</th>\n      <th>high</th>\n      <th>low</th>\n      <th>close</th>\n      <th>volume</th>\n      <th>trades</th>\n    </tr>\n  </thead>\n  <tbody>\n    <tr>\n      <th>24260</th>\n      <td>1580428800</td>\n      <td>0.9985</td>\n      <td>0.9990</td>\n      <td>0.9979</td>\n      <td>0.9985</td>\n      <td>1.131696e+05</td>\n      <td>204</td>\n    </tr>\n    <tr>\n      <th>24261</th>\n      <td>1580432400</td>\n      <td>0.9985</td>\n      <td>0.9990</td>\n      <td>0.9981</td>\n      <td>0.9986</td>\n      <td>8.168696e+04</td>\n      <td>99</td>\n    </tr>\n    <tr>\n      <th>24262</th>\n      <td>1580436000</td>\n      <td>0.9984</td>\n      <td>0.9990</td>\n      <td>0.9981</td>\n      <td>0.9982</td>\n      <td>4.160835e+04</td>\n      <td>91</td>\n    </tr>\n    <tr>\n      <th>24263</th>\n      <td>1580439600</td>\n      <td>0.9982</td>\n      <td>0.9986</td>\n      <td>0.9979</td>\n      <td>0.9979</td>\n      <td>1.993397e+04</td>\n      <td>79</td>\n    </tr>\n    <tr>\n      <th>24264</th>\n      <td>1580443200</td>\n      <td>0.9979</td>\n      <td>0.9982</td>\n      <td>0.9973</td>\n      <td>0.9976</td>\n      <td>5.964288e+04</td>\n      <td>134</td>\n    </tr>\n    <tr>\n      <th>...</th>\n      <td>...</td>\n      <td>...</td>\n      <td>...</td>\n      <td>...</td>\n      <td>...</td>\n      <td>...</td>\n      <td>...</td>\n    </tr>\n    <tr>\n      <th>34476</th>\n      <td>1617217200</td>\n      <td>1.0003</td>\n      <td>1.0004</td>\n      <td>1.0000</td>\n      <td>1.0003</td>\n      <td>5.941234e+06</td>\n      <td>4079</td>\n    </tr>\n    <tr>\n      <th>34477</th>\n      <td>1617220800</td>\n      <td>1.0004</td>\n      <td>1.0004</td>\n      <td>1.0001</td>\n      <td>1.0003</td>\n      <td>5.804575e+06</td>\n      <td>3581</td>\n    </tr>\n    <tr>\n      <th>34478</th>\n      <td>1617224400</td>\n      <td>1.0003</td>\n      <td>1.0005</td>\n      <td>1.0002</td>\n      <td>1.0003</td>\n      <td>2.478189e+06</td>\n      <td>1551</td>\n    </tr>\n    <tr>\n      <th>34479</th>\n      <td>1617228000</td>\n      <td>1.0003</td>\n      <td>1.0004</td>\n      <td>1.0001</td>\n      <td>1.0002</td>\n      <td>3.945085e+06</td>\n      <td>2903</td>\n    </tr>\n    <tr>\n      <th>34480</th>\n      <td>1617231600</td>\n      <td>1.0003</td>\n      <td>1.0005</td>\n      <td>1.0001</td>\n      <td>1.0004</td>\n      <td>1.636791e+06</td>\n      <td>1387</td>\n    </tr>\n  </tbody>\n</table>\n<p>10221 rows × 7 columns</p>\n</div>"
     },
     "metadata": {},
     "execution_count": 4
    }
   ],
   "source": [
    "df_usdt"
   ]
  },
  {
   "cell_type": "code",
   "execution_count": 6,
   "metadata": {},
   "outputs": [
    {
     "output_type": "execute_result",
     "data": {
      "text/plain": [
       "1580428800000"
      ]
     },
     "metadata": {},
     "execution_count": 6
    }
   ],
   "source": [
    "df_hour = pd.read_csv('../data/raw/1-hour-data/ETHUSDT.csv')\n",
    "df_hour['open-time'].min()"
   ]
  },
  {
   "cell_type": "code",
   "execution_count": 7,
   "metadata": {},
   "outputs": [],
   "source": [
    "df_usdt.to_csv('../data/raw/1-hour-data/USDT/USDT.csv', index=False)"
   ]
  },
  {
   "cell_type": "code",
   "execution_count": null,
   "metadata": {},
   "outputs": [],
   "source": []
  }
 ]
}