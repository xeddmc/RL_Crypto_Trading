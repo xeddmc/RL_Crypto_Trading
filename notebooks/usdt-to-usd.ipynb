{
 "metadata": {
  "language_info": {
   "codemirror_mode": {
    "name": "ipython",
    "version": 3
   },
   "file_extension": ".py",
   "mimetype": "text/x-python",
   "name": "python",
   "nbconvert_exporter": "python",
   "pygments_lexer": "ipython3",
   "version": "3.8.8"
  },
  "orig_nbformat": 2,
  "kernelspec": {
   "name": "python388jvsc74a57bd0ba78f105c72a3f5d6d1fda75deaf537b1e0ac9168189c176f5be93842c076180",
   "display_name": "Python 3.8.8 64-bit ('ml': conda)"
  }
 },
 "nbformat": 4,
 "nbformat_minor": 2,
 "cells": [
  {
   "cell_type": "code",
   "execution_count": 59,
   "metadata": {},
   "outputs": [],
   "source": [
    "import pandas as pd\n",
    "import os"
   ]
  },
  {
   "source": [
    "# Converting USDT prices to USD\n",
    "For open, high, low, and close prices\n",
    "\n",
    "## 15-minute data"
   ],
   "cell_type": "markdown",
   "metadata": {}
  },
  {
   "cell_type": "code",
   "execution_count": 60,
   "metadata": {},
   "outputs": [
    {
     "output_type": "execute_result",
     "data": {
      "text/plain": [
       "(40829, 7)"
      ]
     },
     "metadata": {},
     "execution_count": 60
    }
   ],
   "source": [
    "df_usdt_15 = pd.read_csv('../data/raw/15-minute-data/USDT/USDT.csv')"
   ]
  },
  {
   "cell_type": "code",
   "execution_count": 62,
   "metadata": {},
   "outputs": [
    {
     "output_type": "execute_result",
     "data": {
      "text/plain": [
       "['LINKUSDT.csv',\n",
       " 'ETHUSDT.csv',\n",
       " 'XLMUSDT.csv',\n",
       " 'EOSUSDT.csv',\n",
       " 'BTCUSDT.csv',\n",
       " 'TRXUSDT.csv',\n",
       " 'XRPUSDT.csv',\n",
       " 'ADAUSDT.csv',\n",
       " 'USDT',\n",
       " 'LTCUSDT.csv']"
      ]
     },
     "metadata": {},
     "execution_count": 62
    }
   ],
   "source": [
    "minute_dir = '../data/raw/15-minute-data/{}'\n",
    "minute_files = os.listdir(minute_dir.format(''))\n",
    "minute_files"
   ]
  },
  {
   "cell_type": "code",
   "execution_count": 63,
   "metadata": {},
   "outputs": [],
   "source": [
    "for filename in minute_files:\n",
    "    if '.csv' in filename:\n",
    "        df = pd.read_csv(minute_dir.format(filename))\n",
    "        df['open-time'] = df['open-time'] / 1000 # Change epoch time from milliseconds to seconds.\n",
    "        df = df[df['open-time'].isin(df_usdt_15['open-time'])] # only keep records that have a USDT to USD conversion record.\n",
    "        df['open-usd'] = None\n",
    "        df['high-usd'] = None\n",
    "        df['low-usd'] = None\n",
    "        df['close-usd'] = None\n",
    "        df_tmp = df_usdt_15[df_usdt_15['open-time'].isin(df['open-time'])]\n",
    "        df['open-usd'] = df['open'] * df_tmp['open']\n",
    "        df['high-usd'] = df['high'] * df_tmp['high']\n",
    "        df['low-usd'] = df['low'] * df_tmp['low']\n",
    "        df['close-usd'] = df['close'] * df_tmp['close']\n",
    "        df.to_csv(minute_dir.format(filename), index=False)"
   ]
  },
  {
   "source": [
    "## 1-hour data"
   ],
   "cell_type": "markdown",
   "metadata": {}
  },
  {
   "cell_type": "code",
   "execution_count": 64,
   "metadata": {},
   "outputs": [],
   "source": [
    "df_usdt_hour = pd.read_csv('../data/raw/1-hour-data/USDT/USDT.csv')"
   ]
  },
  {
   "cell_type": "code",
   "execution_count": 65,
   "metadata": {},
   "outputs": [
    {
     "output_type": "execute_result",
     "data": {
      "text/plain": [
       "['LINKUSDT.csv',\n",
       " 'ETHUSDT.csv',\n",
       " 'XLMUSDT.csv',\n",
       " 'EOSUSDT.csv',\n",
       " 'BTCUSDT.csv',\n",
       " 'TRXUSDT.csv',\n",
       " 'XRPUSDT.csv',\n",
       " 'ADAUSDT.csv',\n",
       " 'USDT',\n",
       " 'LTCUSDT.csv']"
      ]
     },
     "metadata": {},
     "execution_count": 65
    }
   ],
   "source": [
    "hour_dir = '../data/raw/1-hour-data/{}'\n",
    "hour_files = os.listdir(hour_dir.format(''))\n",
    "hour_files"
   ]
  },
  {
   "cell_type": "code",
   "execution_count": 66,
   "metadata": {},
   "outputs": [],
   "source": [
    "for filename in hour_files:\n",
    "    if '.csv' in filename:\n",
    "        df = pd.read_csv(hour_dir.format(filename))\n",
    "        df['open-time'] = df['open-time'] / 1000 # Change epoch time from milliseconds to seconds.\n",
    "        df = df[df['open-time'].isin(df_usdt_hour['open-time'])] # only keep records that have a USDT to USD conversion record.\n",
    "        df['open-usd'] = None\n",
    "        df['high-usd'] = None\n",
    "        df['low-usd'] = None\n",
    "        df['close-usd'] = None\n",
    "        df_tmp = df_usdt_hour[df_usdt_hour['open-time'].isin(df['open-time'])]\n",
    "        df['open-usd'] = df['open'] * df_tmp['open']\n",
    "        df['high-usd'] = df['high'] * df_tmp['high']\n",
    "        df['low-usd'] = df['low'] * df_tmp['low']\n",
    "        df['close-usd'] = df['close'] * df_tmp['close']\n",
    "        df.to_csv(hour_dir.format(filename), index=False)"
   ]
  },
  {
   "cell_type": "code",
   "execution_count": null,
   "metadata": {},
   "outputs": [],
   "source": []
  }
 ]
}