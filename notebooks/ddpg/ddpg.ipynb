{
 "metadata": {
  "language_info": {
   "codemirror_mode": {
    "name": "ipython",
    "version": 3
   },
   "file_extension": ".py",
   "mimetype": "text/x-python",
   "name": "python",
   "nbconvert_exporter": "python",
   "pygments_lexer": "ipython3",
   "version": "3.8.10"
  },
  "orig_nbformat": 2,
  "kernelspec": {
   "name": "python3810jvsc74a57bd01dc1b547d23c73a8aba5ebec8b4be8b5ef7d48f172a46a8c59c0768e3e5dd15b",
   "display_name": "Python 3.8.10 64-bit ('ddpg': conda)"
  },
  "metadata": {
   "interpreter": {
    "hash": "1dc1b547d23c73a8aba5ebec8b4be8b5ef7d48f172a46a8c59c0768e3e5dd15b"
   }
  }
 },
 "nbformat": 4,
 "nbformat_minor": 2,
 "cells": [
  {
   "cell_type": "code",
   "execution_count": 12,
   "metadata": {},
   "outputs": [],
   "source": [
    "import os\n",
    "import gym\n",
    "import numpy as np\n",
    "import pandas as pd\n",
    "from stable_baselines3 import DDPG\n",
    "from stable_baselines3.common.noise import NormalActionNoise, OrnsteinUhlenbeckActionNoise\n",
    "\n",
    "from gym import spaces"
   ]
  },
  {
   "cell_type": "code",
   "execution_count": 44,
   "metadata": {},
   "outputs": [],
   "source": [
    "NUM_SECURITIES = 1\n",
    "INITIAL_FUNDS = 10000"
   ]
  },
  {
   "cell_type": "code",
   "execution_count": 76,
   "metadata": {},
   "outputs": [],
   "source": [
    "class TradeEnvTrain(gym.Env):\n",
    "    def __init__(self, df, ds = 0):\n",
    "        self.ds = ds\n",
    "        self.df = df\n",
    "        \n",
    "        self.action_space = spaces.Box(low = -1, high = 1, shape = (NUM_SECURITIES,)) # Action space with values [-1,1] for each of the 9 cryptos.\n",
    "        self.observation_space = spaces.Box(low = 0, high = np.inf, shape = (55,)) # Observation space shape is from |Balance|+|close prices|+|k coins owned| + (4*9) for each of the TIs. 1 + (9 * 6).\n",
    "\n",
    "        self.data = self.df.loc[self.ds,:]\n",
    "        print(self.data)\n",
    "        self.terminal = False # Terminal state aquired.\n",
    "\n",
    "        if NUM_SECURITIES == 1:\n",
    "            k = 0 # Number of coins owned.\n",
    "            self.state = [INITIAL_FUNDS, self.data.close, k, self.data.macd, self.data.rsi, self.data.cci, self.data.adx]\n",
    "\n",
    "        self.reward = 0\n",
    "        self.cost = 0\n",
    "        # memorize all the total balance change\n",
    "        self.asset_memory = [INITIAL_ACCOUNT_BALANCE]\n",
    "        self.rewards_memory = []\n",
    "        self.trades = 0\n",
    "        #self.reset()\n",
    "        self._seed()\n",
    "    \n",
    "\n",
    "\n",
    "\n",
    "    def _seed(self, seed=None):\n",
    "        self.np_random, seed = seeding.np_random(seed)\n",
    "        return [seed]"
   ]
  },
  {
   "cell_type": "code",
   "execution_count": 71,
   "metadata": {},
   "outputs": [],
   "source": [
    "df = pd.read_csv('../../data/ready/1-day-data/coin_Bitcoin.csv')"
   ]
  }
 ]
}