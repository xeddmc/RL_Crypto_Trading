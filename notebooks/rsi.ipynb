{
 "metadata": {
  "language_info": {
   "codemirror_mode": {
    "name": "ipython",
    "version": 3
   },
   "file_extension": ".py",
   "mimetype": "text/x-python",
   "name": "python",
   "nbconvert_exporter": "python",
   "pygments_lexer": "ipython3",
   "version": "3.8.8"
  },
  "orig_nbformat": 2,
  "kernelspec": {
   "name": "python388jvsc74a57bd0ba78f105c72a3f5d6d1fda75deaf537b1e0ac9168189c176f5be93842c076180",
   "display_name": "Python 3.8.8 64-bit ('ml': conda)"
  }
 },
 "nbformat": 4,
 "nbformat_minor": 2,
 "cells": [
  {
   "cell_type": "code",
   "execution_count": 7,
   "metadata": {},
   "outputs": [],
   "source": [
    "import pandas as pd\n",
    "import numpy as np\n",
    "import os"
   ]
  },
  {
   "source": [
    "# Calculate Change, Gain, Loss, and RSI for each dataset\n",
    "## 1-day data"
   ],
   "cell_type": "markdown",
   "metadata": {}
  },
  {
   "cell_type": "code",
   "execution_count": 2,
   "metadata": {},
   "outputs": [
    {
     "output_type": "stream",
     "name": "stdout",
     "text": [
      "['coin_Bitcoin.csv', 'coin_Stellar.csv', 'coin_Litecoin.csv', 'coin_Ethereum.csv', 'coin_EOS.csv', 'coin_Cardano.csv', 'coin_ChainLink.csv', 'coin_Tron.csv', 'coin_XRP.csv']\n"
     ]
    }
   ],
   "source": [
    "day_dir = '../data/technical-indicators/1-day-data/{}'\n",
    "day_files = os.listdir(day_dir.format(''))\n",
    "print(day_files)"
   ]
  },
  {
   "cell_type": "code",
   "execution_count": 8,
   "metadata": {},
   "outputs": [
    {
     "output_type": "display_data",
     "data": {
      "text/plain": "       SNo     Name Symbol                 Date          High           Low  \\\n0        1  Bitcoin    BTC  2013-04-29 23:59:59    147.488007    134.000000   \n1        2  Bitcoin    BTC  2013-04-30 23:59:59    146.929993    134.050003   \n2        3  Bitcoin    BTC  2013-05-01 23:59:59    139.889999    107.720001   \n3        4  Bitcoin    BTC  2013-05-02 23:59:59    125.599998     92.281898   \n4        5  Bitcoin    BTC  2013-05-03 23:59:59    108.127998     79.099998   \n...    ...      ...    ...                  ...           ...           ...   \n2857  2858  Bitcoin    BTC  2021-02-23 23:59:59  54204.929756  45290.590268   \n2858  2859  Bitcoin    BTC  2021-02-24 23:59:59  51290.136695  47213.498162   \n2859  2860  Bitcoin    BTC  2021-02-25 23:59:59  51948.966982  47093.853019   \n2860  2861  Bitcoin    BTC  2021-02-26 23:59:59  48370.785260  44454.842114   \n2861  2862  Bitcoin    BTC  2021-02-27 23:59:59  48253.270101  45269.025766   \n\n              Open         Close        Volume     Marketcap  12-period-EMA  \\\n0       134.444000    144.539993  0.000000e+00  1.603769e+09            NaN   \n1       144.000000    139.000000  0.000000e+00  1.542813e+09            NaN   \n2       139.000000    116.989998  0.000000e+00  1.298955e+09            NaN   \n3       116.379997    105.209999  0.000000e+00  1.168517e+09            NaN   \n4       106.250000     97.750000  0.000000e+00  1.085995e+09            NaN   \n...            ...           ...           ...           ...            ...   \n2857  54204.929756  48824.426869  1.061025e+11  9.099259e+11   50978.390539   \n2858  48835.087661  49705.333316  6.369552e+10  9.263931e+11   50782.535581   \n2859  49709.082425  47093.853019  5.450657e+10  8.777661e+11   50215.045956   \n2860  47180.464054  46339.760083  3.509679e+11  8.637523e+11   49618.848130   \n2861  46344.772237  46188.451275  4.591095e+10  8.609781e+11   49091.094767   \n\n      26-period-EMA         MACD       Signal  \n0               NaN          NaN          NaN  \n1               NaN          NaN          NaN  \n2               NaN          NaN          NaN  \n3               NaN          NaN          NaN  \n4               NaN          NaN          NaN  \n...             ...          ...          ...  \n2857   46412.341457  4566.049082  4517.102742  \n2858   46656.266780  4126.268801  4438.935954  \n2859   46688.680575  3526.365381  4256.421839  \n2860   46662.834613  2956.013517  3996.340175  \n2861   46627.695106  2463.399661  3689.752072  \n\n[2862 rows x 14 columns]",
      "text/html": "<div>\n<style scoped>\n    .dataframe tbody tr th:only-of-type {\n        vertical-align: middle;\n    }\n\n    .dataframe tbody tr th {\n        vertical-align: top;\n    }\n\n    .dataframe thead th {\n        text-align: right;\n    }\n</style>\n<table border=\"1\" class=\"dataframe\">\n  <thead>\n    <tr style=\"text-align: right;\">\n      <th></th>\n      <th>SNo</th>\n      <th>Name</th>\n      <th>Symbol</th>\n      <th>Date</th>\n      <th>High</th>\n      <th>Low</th>\n      <th>Open</th>\n      <th>Close</th>\n      <th>Volume</th>\n      <th>Marketcap</th>\n      <th>12-period-EMA</th>\n      <th>26-period-EMA</th>\n      <th>MACD</th>\n      <th>Signal</th>\n    </tr>\n  </thead>\n  <tbody>\n    <tr>\n      <th>0</th>\n      <td>1</td>\n      <td>Bitcoin</td>\n      <td>BTC</td>\n      <td>2013-04-29 23:59:59</td>\n      <td>147.488007</td>\n      <td>134.000000</td>\n      <td>134.444000</td>\n      <td>144.539993</td>\n      <td>0.000000e+00</td>\n      <td>1.603769e+09</td>\n      <td>NaN</td>\n      <td>NaN</td>\n      <td>NaN</td>\n      <td>NaN</td>\n    </tr>\n    <tr>\n      <th>1</th>\n      <td>2</td>\n      <td>Bitcoin</td>\n      <td>BTC</td>\n      <td>2013-04-30 23:59:59</td>\n      <td>146.929993</td>\n      <td>134.050003</td>\n      <td>144.000000</td>\n      <td>139.000000</td>\n      <td>0.000000e+00</td>\n      <td>1.542813e+09</td>\n      <td>NaN</td>\n      <td>NaN</td>\n      <td>NaN</td>\n      <td>NaN</td>\n    </tr>\n    <tr>\n      <th>2</th>\n      <td>3</td>\n      <td>Bitcoin</td>\n      <td>BTC</td>\n      <td>2013-05-01 23:59:59</td>\n      <td>139.889999</td>\n      <td>107.720001</td>\n      <td>139.000000</td>\n      <td>116.989998</td>\n      <td>0.000000e+00</td>\n      <td>1.298955e+09</td>\n      <td>NaN</td>\n      <td>NaN</td>\n      <td>NaN</td>\n      <td>NaN</td>\n    </tr>\n    <tr>\n      <th>3</th>\n      <td>4</td>\n      <td>Bitcoin</td>\n      <td>BTC</td>\n      <td>2013-05-02 23:59:59</td>\n      <td>125.599998</td>\n      <td>92.281898</td>\n      <td>116.379997</td>\n      <td>105.209999</td>\n      <td>0.000000e+00</td>\n      <td>1.168517e+09</td>\n      <td>NaN</td>\n      <td>NaN</td>\n      <td>NaN</td>\n      <td>NaN</td>\n    </tr>\n    <tr>\n      <th>4</th>\n      <td>5</td>\n      <td>Bitcoin</td>\n      <td>BTC</td>\n      <td>2013-05-03 23:59:59</td>\n      <td>108.127998</td>\n      <td>79.099998</td>\n      <td>106.250000</td>\n      <td>97.750000</td>\n      <td>0.000000e+00</td>\n      <td>1.085995e+09</td>\n      <td>NaN</td>\n      <td>NaN</td>\n      <td>NaN</td>\n      <td>NaN</td>\n    </tr>\n    <tr>\n      <th>...</th>\n      <td>...</td>\n      <td>...</td>\n      <td>...</td>\n      <td>...</td>\n      <td>...</td>\n      <td>...</td>\n      <td>...</td>\n      <td>...</td>\n      <td>...</td>\n      <td>...</td>\n      <td>...</td>\n      <td>...</td>\n      <td>...</td>\n      <td>...</td>\n    </tr>\n    <tr>\n      <th>2857</th>\n      <td>2858</td>\n      <td>Bitcoin</td>\n      <td>BTC</td>\n      <td>2021-02-23 23:59:59</td>\n      <td>54204.929756</td>\n      <td>45290.590268</td>\n      <td>54204.929756</td>\n      <td>48824.426869</td>\n      <td>1.061025e+11</td>\n      <td>9.099259e+11</td>\n      <td>50978.390539</td>\n      <td>46412.341457</td>\n      <td>4566.049082</td>\n      <td>4517.102742</td>\n    </tr>\n    <tr>\n      <th>2858</th>\n      <td>2859</td>\n      <td>Bitcoin</td>\n      <td>BTC</td>\n      <td>2021-02-24 23:59:59</td>\n      <td>51290.136695</td>\n      <td>47213.498162</td>\n      <td>48835.087661</td>\n      <td>49705.333316</td>\n      <td>6.369552e+10</td>\n      <td>9.263931e+11</td>\n      <td>50782.535581</td>\n      <td>46656.266780</td>\n      <td>4126.268801</td>\n      <td>4438.935954</td>\n    </tr>\n    <tr>\n      <th>2859</th>\n      <td>2860</td>\n      <td>Bitcoin</td>\n      <td>BTC</td>\n      <td>2021-02-25 23:59:59</td>\n      <td>51948.966982</td>\n      <td>47093.853019</td>\n      <td>49709.082425</td>\n      <td>47093.853019</td>\n      <td>5.450657e+10</td>\n      <td>8.777661e+11</td>\n      <td>50215.045956</td>\n      <td>46688.680575</td>\n      <td>3526.365381</td>\n      <td>4256.421839</td>\n    </tr>\n    <tr>\n      <th>2860</th>\n      <td>2861</td>\n      <td>Bitcoin</td>\n      <td>BTC</td>\n      <td>2021-02-26 23:59:59</td>\n      <td>48370.785260</td>\n      <td>44454.842114</td>\n      <td>47180.464054</td>\n      <td>46339.760083</td>\n      <td>3.509679e+11</td>\n      <td>8.637523e+11</td>\n      <td>49618.848130</td>\n      <td>46662.834613</td>\n      <td>2956.013517</td>\n      <td>3996.340175</td>\n    </tr>\n    <tr>\n      <th>2861</th>\n      <td>2862</td>\n      <td>Bitcoin</td>\n      <td>BTC</td>\n      <td>2021-02-27 23:59:59</td>\n      <td>48253.270101</td>\n      <td>45269.025766</td>\n      <td>46344.772237</td>\n      <td>46188.451275</td>\n      <td>4.591095e+10</td>\n      <td>8.609781e+11</td>\n      <td>49091.094767</td>\n      <td>46627.695106</td>\n      <td>2463.399661</td>\n      <td>3689.752072</td>\n    </tr>\n  </tbody>\n</table>\n<p>2862 rows × 14 columns</p>\n</div>"
     },
     "metadata": {}
    }
   ],
   "source": [
    "for filename in day_files:\n",
    "    df = pd.read_csv(day_dir.format(filename))\n",
    "    for i in range(1, len(df)):\n",
    "        \n",
    "    display(df)\n",
    "    break"
   ]
  },
  {
   "cell_type": "code",
   "execution_count": 3,
   "metadata": {},
   "outputs": [],
   "source": [
    " K = 14"
   ]
  },
  {
   "source": [
    "Calculate change day over day and gain or loss when applicable"
   ],
   "cell_type": "markdown",
   "metadata": {}
  },
  {
   "cell_type": "code",
   "execution_count": 31,
   "metadata": {},
   "outputs": [],
   "source": [
    "for filename in day_files:\n",
    "    df = pd.read_csv(day_dir.format(filename))\n",
    "    df['change'] = 0\n",
    "    df['gain'] = 0\n",
    "    df['loss'] = 0\n",
    "    for i in range(1, len(df)):\n",
    "        change = df.loc[i, 'Close'] - df.loc[i-1, 'Close']\n",
    "        df.loc[i, 'change'] = change\n",
    "        if change < 0:\n",
    "            df.loc[i, 'loss'] = change * -1\n",
    "        else:\n",
    "            df.loc[i, 'gain'] = change\n",
    "    df.to_csv(day_dir.format(filename), index=False)"
   ]
  },
  {
   "source": [
    "Calculate first average gain and loss. Then calculate subsequent averages, RS, and RSI (14-day)."
   ],
   "cell_type": "markdown",
   "metadata": {}
  },
  {
   "cell_type": "code",
   "execution_count": 32,
   "metadata": {},
   "outputs": [],
   "source": [
    "for filename in day_files:\n",
    "    df = pd.read_csv(day_dir.format(filename))\n",
    "    df['avg-gain'] = None\n",
    "    df['avg-loss'] = None\n",
    "    df['RS'] = None\n",
    "    df['RSI'] = None\n",
    "\n",
    "    # Calculate the first average gain/loss, RS, and RSI\n",
    "    df.loc[14, 'avg-gain'] = np.mean(df['gain'].values[0:14])\n",
    "    df.loc[14, 'avg-loss'] = np.mean(df['loss'].values[0:14])\n",
    "    df.loc[14, 'RS'] = df.loc[14, 'avg-gain'] / df.loc[14, 'avg-loss']\n",
    "    df.loc[14, 'RSI'] = 100 - (100 / (1 + df.loc[14, 'RS']))\n",
    "    \n",
    "    # Calculate second and all subsequent values\n",
    "    for i in range(15, len(df)):\n",
    "        df.loc[i, 'avg-gain'] = ((df.loc[i-1, 'avg-gain'] * 13) + df.loc[i, 'gain']) / 14\n",
    "        df.loc[i, 'avg-loss'] = ((df.loc[i-1, 'avg-loss'] * 13) + df.loc[i, 'loss']) / 14\n",
    "        df.loc[i, 'RS'] = df.loc[i, 'avg-gain'] / df.loc[i, 'avg-loss']\n",
    "        df.loc[i, 'RSI'] = 100 - (100 / (1 + df.loc[i, 'RS']))\n",
    "    df.to_csv(day_dir.format(filename), index=False)\n",
    "    "
   ]
  },
  {
   "source": [
    "## 1-hour data"
   ],
   "cell_type": "markdown",
   "metadata": {}
  },
  {
   "cell_type": "code",
   "execution_count": 35,
   "metadata": {},
   "outputs": [
    {
     "output_type": "stream",
     "name": "stdout",
     "text": [
      "['LINKUSDT.csv', 'ETHUSDT.csv', 'XLMUSDT.csv', 'EOSUSDT.csv', 'BTCUSDT.csv', 'TRXUSDT.csv', 'XRPUSDT.csv', 'ADAUSDT.csv', 'LTCUSDT.csv']\n"
     ]
    }
   ],
   "source": [
    "hour_dir = '../data/technical-indicators/1-hour-data/{}'\n",
    "hour_files = os.listdir(hour_dir.format(''))\n",
    "print(hour_files)"
   ]
  },
  {
   "cell_type": "code",
   "execution_count": 36,
   "metadata": {},
   "outputs": [],
   "source": [
    "for filename in hour_files:\n",
    "    df = pd.read_csv(hour_dir.format(filename))\n",
    "    df['change'] = 0\n",
    "    df['gain'] = 0\n",
    "    df['loss'] = 0\n",
    "    for i in range(1, len(df)):\n",
    "        change = df.loc[i, 'close-usd'] - df.loc[i-1, 'close-usd']\n",
    "        df.loc[i, 'change'] = change\n",
    "        if change < 0:\n",
    "            df.loc[i, 'loss'] = change * -1\n",
    "        else:\n",
    "            df.loc[i, 'gain'] = change\n",
    "    df.to_csv(hour_dir.format(filename), index=False)"
   ]
  },
  {
   "cell_type": "code",
   "execution_count": 37,
   "metadata": {},
   "outputs": [],
   "source": [
    "for filename in hour_files:\n",
    "    df = pd.read_csv(hour_dir.format(filename))\n",
    "    df['avg-gain'] = None\n",
    "    df['avg-loss'] = None\n",
    "    df['RS'] = None\n",
    "    df['RSI'] = None\n",
    "\n",
    "    # Calculate the first average gain/loss, RS, and RSI\n",
    "    df.loc[14, 'avg-gain'] = np.mean(df['gain'].values[0:14])\n",
    "    df.loc[14, 'avg-loss'] = np.mean(df['loss'].values[0:14])\n",
    "    df.loc[14, 'RS'] = df.loc[14, 'avg-gain'] / df.loc[14, 'avg-loss']\n",
    "    df.loc[14, 'RSI'] = 100 - (100 / (1 + df.loc[14, 'RS']))\n",
    "    \n",
    "    # Calculate second and all subsequent values\n",
    "    for i in range(15, len(df)):\n",
    "        df.loc[i, 'avg-gain'] = ((df.loc[i-1, 'avg-gain'] * 13) + df.loc[i, 'gain']) / 14\n",
    "        df.loc[i, 'avg-loss'] = ((df.loc[i-1, 'avg-loss'] * 13) + df.loc[i, 'loss']) / 14\n",
    "        df.loc[i, 'RS'] = df.loc[i, 'avg-gain'] / df.loc[i, 'avg-loss']\n",
    "        df.loc[i, 'RSI'] = 100 - (100 / (1 + df.loc[i, 'RS']))\n",
    "    df.to_csv(hour_dir.format(filename), index=False)"
   ]
  },
  {
   "source": [
    "## 15-minute data"
   ],
   "cell_type": "markdown",
   "metadata": {}
  },
  {
   "cell_type": "code",
   "execution_count": 38,
   "metadata": {},
   "outputs": [
    {
     "output_type": "stream",
     "name": "stdout",
     "text": [
      "['LINKUSDT.csv', 'ETHUSDT.csv', 'XLMUSDT.csv', 'EOSUSDT.csv', 'BTCUSDT.csv', 'TRXUSDT.csv', 'XRPUSDT.csv', 'ADAUSDT.csv', 'LTCUSDT.csv']\n"
     ]
    }
   ],
   "source": [
    "minute_dir = '../data/technical-indicators/15-minute-data/{}'\n",
    "minute_files = os.listdir(minute_dir.format(''))\n",
    "print(minute_files)"
   ]
  },
  {
   "cell_type": "code",
   "execution_count": 39,
   "metadata": {},
   "outputs": [],
   "source": [
    "for filename in minute_files:\n",
    "    df = pd.read_csv(minute_dir.format(filename))\n",
    "    df['change'] = 0\n",
    "    df['gain'] = 0\n",
    "    df['loss'] = 0\n",
    "    for i in range(1, len(df)):\n",
    "        change = df.loc[i, 'close-usd'] - df.loc[i-1, 'close-usd']\n",
    "        df.loc[i, 'change'] = change\n",
    "        if change < 0:\n",
    "            df.loc[i, 'loss'] = change * -1\n",
    "        else:\n",
    "            df.loc[i, 'gain'] = change\n",
    "    df.to_csv(minute_dir.format(filename), index=False)"
   ]
  },
  {
   "cell_type": "code",
   "execution_count": 40,
   "metadata": {},
   "outputs": [],
   "source": [
    "for filename in minute_files:\n",
    "    df = pd.read_csv(minute_dir.format(filename))\n",
    "    df['avg-gain'] = None\n",
    "    df['avg-loss'] = None\n",
    "    df['RS'] = None\n",
    "    df['RSI'] = None\n",
    "\n",
    "    # Calculate the first average gain/loss, RS, and RSI\n",
    "    df.loc[14, 'avg-gain'] = np.mean(df['gain'].values[0:14])\n",
    "    df.loc[14, 'avg-loss'] = np.mean(df['loss'].values[0:14])\n",
    "    df.loc[14, 'RS'] = df.loc[14, 'avg-gain'] / df.loc[14, 'avg-loss']\n",
    "    df.loc[14, 'RSI'] = 100 - (100 / (1 + df.loc[14, 'RS']))\n",
    "    \n",
    "    # Calculate second and all subsequent values\n",
    "    for i in range(15, len(df)):\n",
    "        df.loc[i, 'avg-gain'] = ((df.loc[i-1, 'avg-gain'] * 13) + df.loc[i, 'gain']) / 14\n",
    "        df.loc[i, 'avg-loss'] = ((df.loc[i-1, 'avg-loss'] * 13) + df.loc[i, 'loss']) / 14\n",
    "        df.loc[i, 'RS'] = df.loc[i, 'avg-gain'] / df.loc[i, 'avg-loss']\n",
    "        df.loc[i, 'RSI'] = 100 - (100 / (1 + df.loc[i, 'RS']))\n",
    "    df.to_csv(minute_dir.format(filename), index=False)"
   ]
  },
  {
   "cell_type": "code",
   "execution_count": null,
   "metadata": {},
   "outputs": [],
   "source": []
  }
 ]
}